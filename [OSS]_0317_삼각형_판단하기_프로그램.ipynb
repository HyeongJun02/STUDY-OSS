{
  "nbformat": 4,
  "nbformat_minor": 0,
  "metadata": {
    "colab": {
      "provenance": [],
      "authorship_tag": "ABX9TyNFjvZfpBnJJKyLjvX9EwuR",
      "include_colab_link": true
    },
    "kernelspec": {
      "name": "python3",
      "display_name": "Python 3"
    },
    "language_info": {
      "name": "python"
    }
  },
  "cells": [
    {
      "cell_type": "markdown",
      "metadata": {
        "id": "view-in-github",
        "colab_type": "text"
      },
      "source": [
        "<a href=\"https://colab.research.google.com/github/HyeongJun02/STUDY-OSS/blob/main/%5BOSS%5D_0317_%EC%82%BC%EA%B0%81%ED%98%95_%ED%8C%90%EB%8B%A8%ED%95%98%EA%B8%B0_%ED%94%84%EB%A1%9C%EA%B7%B8%EB%9E%A8.ipynb\" target=\"_parent\"><img src=\"https://colab.research.google.com/assets/colab-badge.svg\" alt=\"Open In Colab\"/></a>"
      ]
    },
    {
      "cell_type": "markdown",
      "source": [
        "# 삼각형 판단하기\n",
        "\n",
        "본 수업에서는 **삼각형의 세 변의 길이**를 받아서 어떠한 삼각형인지를 알려주는 프로그램을 개발합니다.\n",
        "제안하는 프로그램은 사용자로부터 3개의 입력을 받습니다."
      ],
      "metadata": {
        "id": "NqQsPBKxxiJz"
      }
    },
    {
      "cell_type": "code",
      "source": [
        "# @title Example form fields\n",
        "# @markdown Forms support many types of fields.\n",
        "\n",
        "# no_type_checking = ''  # @param\n",
        "# string_type = 'example'  # @param {type: \"string\"}\n",
        "# slider_value = 142  # @param {type: \"slider\", min: 100, max: 200}\n",
        "a = 5  # @param {type: \"number\"}\n",
        "b = 12  # @param {type: \"number\"}\n",
        "c = 13  # @param {type: \"number\"}\n",
        "# date = '2010-11-05'  # @param {type: \"date\"}\n",
        "# pick_me = \"monday\"  # @param ['monday', 'tuesday', 'wednesday', 'thursday']\n",
        "# select_or_input = \"apples\" # @param [\"apples\", \"bananas\", \"oranges\"] {allow-input: true}\n",
        "# @markdown ---"
      ],
      "metadata": {
        "id": "A0oZlWQVzRHj"
      },
      "execution_count": 10,
      "outputs": []
    },
    {
      "cell_type": "markdown",
      "source": [
        "## 정삼각형\n",
        "$a = b = c$ 정삼각형 🔺"
      ],
      "metadata": {
        "id": "8TX7yIMdynh8"
      }
    },
    {
      "cell_type": "code",
      "source": [
        "if a == b == c:\n",
        "  print(\"정삼각형\")\n",
        "else:\n",
        "  print(\"정삼각형 아님\")"
      ],
      "metadata": {
        "colab": {
          "base_uri": "https://localhost:8080/"
        },
        "id": "kRMOUlKcyag_",
        "outputId": "9ec20632-ad7d-4806-c428-c2995db5c327"
      },
      "execution_count": 11,
      "outputs": [
        {
          "output_type": "stream",
          "name": "stdout",
          "text": [
            "정삼각형 아님\n"
          ]
        }
      ]
    },
    {
      "cell_type": "markdown",
      "source": [
        "## 직각삼각형\n",
        "$a^2 + b^2 = c^2$ 직각삼각형 🔺"
      ],
      "metadata": {
        "id": "65cyNL3uz1Jg"
      }
    },
    {
      "cell_type": "code",
      "source": [
        "if (a**2 + b**2 == c**2) or (a**2 + c**2 == b**2) or (b**2 + c**2 == a**2):\n",
        "  print(\"직각삼각형\")\n",
        "else:\n",
        "  print(\"직각삼각형 아님\")"
      ],
      "metadata": {
        "colab": {
          "base_uri": "https://localhost:8080/"
        },
        "id": "WaLf6rlQ0bkp",
        "outputId": "28dc1f79-ab51-4e6a-faab-d97aa25acaa5"
      },
      "execution_count": 12,
      "outputs": [
        {
          "output_type": "stream",
          "name": "stdout",
          "text": [
            "직각삼각형\n"
          ]
        }
      ]
    }
  ]
}